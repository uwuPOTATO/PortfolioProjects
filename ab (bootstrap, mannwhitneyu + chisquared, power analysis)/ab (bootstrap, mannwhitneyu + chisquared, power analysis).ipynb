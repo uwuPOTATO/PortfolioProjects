{
 "cells": [
  {
   "cell_type": "code",
   "execution_count": 1,
   "id": "d328876a",
   "metadata": {},
   "outputs": [],
   "source": [
    "import pandas as pd\n",
    "import numpy as np\n",
    "import seaborn as sns\n",
    "import matplotlib.pyplot as plt\n",
    "%matplotlib inline\n",
    "\n",
    "import bootstrapped.bootstrap as bs\n",
    "import bootstrapped.stats_functions as bs_stats\n",
    "import bootstrapped.compare_functions as bs_compare\n",
    "\n",
    "\n",
    "plt.rcParams[\"figure.figsize\"] = (15, 8)"
   ]
  },
  {
   "cell_type": "code",
   "execution_count": 2,
   "id": "6577b72a",
   "metadata": {},
   "outputs": [
    {
     "data": {
      "text/html": [
       "<div>\n",
       "<style scoped>\n",
       "    .dataframe tbody tr th:only-of-type {\n",
       "        vertical-align: middle;\n",
       "    }\n",
       "\n",
       "    .dataframe tbody tr th {\n",
       "        vertical-align: top;\n",
       "    }\n",
       "\n",
       "    .dataframe thead th {\n",
       "        text-align: right;\n",
       "    }\n",
       "</style>\n",
       "<table border=\"1\" class=\"dataframe\">\n",
       "  <thead>\n",
       "    <tr style=\"text-align: right;\">\n",
       "      <th></th>\n",
       "      <th>USER_ID</th>\n",
       "      <th>VARIANT_NAME</th>\n",
       "      <th>REVENUE</th>\n",
       "    </tr>\n",
       "  </thead>\n",
       "  <tbody>\n",
       "    <tr>\n",
       "      <th>0</th>\n",
       "      <td>737</td>\n",
       "      <td>variant</td>\n",
       "      <td>0.0</td>\n",
       "    </tr>\n",
       "    <tr>\n",
       "      <th>1</th>\n",
       "      <td>2423</td>\n",
       "      <td>control</td>\n",
       "      <td>0.0</td>\n",
       "    </tr>\n",
       "    <tr>\n",
       "      <th>2</th>\n",
       "      <td>9411</td>\n",
       "      <td>control</td>\n",
       "      <td>0.0</td>\n",
       "    </tr>\n",
       "    <tr>\n",
       "      <th>3</th>\n",
       "      <td>7311</td>\n",
       "      <td>control</td>\n",
       "      <td>0.0</td>\n",
       "    </tr>\n",
       "    <tr>\n",
       "      <th>4</th>\n",
       "      <td>6174</td>\n",
       "      <td>variant</td>\n",
       "      <td>0.0</td>\n",
       "    </tr>\n",
       "  </tbody>\n",
       "</table>\n",
       "</div>"
      ],
      "text/plain": [
       "   USER_ID VARIANT_NAME  REVENUE\n",
       "0      737      variant      0.0\n",
       "1     2423      control      0.0\n",
       "2     9411      control      0.0\n",
       "3     7311      control      0.0\n",
       "4     6174      variant      0.0"
      ]
     },
     "execution_count": 2,
     "metadata": {},
     "output_type": "execute_result"
    }
   ],
   "source": [
    "df = pd.read_csv('AB_Test_Results2.csv', sep=',')\n",
    "\n",
    "df.head()"
   ]
  },
  {
   "cell_type": "code",
   "execution_count": 3,
   "id": "3e6beaae",
   "metadata": {},
   "outputs": [
    {
     "data": {
      "text/html": [
       "<div>\n",
       "<style scoped>\n",
       "    .dataframe tbody tr th:only-of-type {\n",
       "        vertical-align: middle;\n",
       "    }\n",
       "\n",
       "    .dataframe tbody tr th {\n",
       "        vertical-align: top;\n",
       "    }\n",
       "\n",
       "    .dataframe thead th {\n",
       "        text-align: right;\n",
       "    }\n",
       "</style>\n",
       "<table border=\"1\" class=\"dataframe\">\n",
       "  <thead>\n",
       "    <tr style=\"text-align: right;\">\n",
       "      <th></th>\n",
       "      <th>USER_ID</th>\n",
       "      <th>REVENUE</th>\n",
       "    </tr>\n",
       "  </thead>\n",
       "  <tbody>\n",
       "    <tr>\n",
       "      <th>count</th>\n",
       "      <td>9997.000000</td>\n",
       "      <td>9997.000000</td>\n",
       "    </tr>\n",
       "    <tr>\n",
       "      <th>mean</th>\n",
       "      <td>4980.886566</td>\n",
       "      <td>0.083710</td>\n",
       "    </tr>\n",
       "    <tr>\n",
       "      <th>std</th>\n",
       "      <td>2890.805134</td>\n",
       "      <td>2.129166</td>\n",
       "    </tr>\n",
       "    <tr>\n",
       "      <th>min</th>\n",
       "      <td>2.000000</td>\n",
       "      <td>0.000000</td>\n",
       "    </tr>\n",
       "    <tr>\n",
       "      <th>25%</th>\n",
       "      <td>2468.000000</td>\n",
       "      <td>0.000000</td>\n",
       "    </tr>\n",
       "    <tr>\n",
       "      <th>50%</th>\n",
       "      <td>4962.000000</td>\n",
       "      <td>0.000000</td>\n",
       "    </tr>\n",
       "    <tr>\n",
       "      <th>75%</th>\n",
       "      <td>7513.000000</td>\n",
       "      <td>0.000000</td>\n",
       "    </tr>\n",
       "    <tr>\n",
       "      <th>max</th>\n",
       "      <td>10000.000000</td>\n",
       "      <td>196.010000</td>\n",
       "    </tr>\n",
       "  </tbody>\n",
       "</table>\n",
       "</div>"
      ],
      "text/plain": [
       "            USER_ID      REVENUE\n",
       "count   9997.000000  9997.000000\n",
       "mean    4980.886566     0.083710\n",
       "std     2890.805134     2.129166\n",
       "min        2.000000     0.000000\n",
       "25%     2468.000000     0.000000\n",
       "50%     4962.000000     0.000000\n",
       "75%     7513.000000     0.000000\n",
       "max    10000.000000   196.010000"
      ]
     },
     "execution_count": 3,
     "metadata": {},
     "output_type": "execute_result"
    }
   ],
   "source": [
    "# We have outlier\n",
    "\n",
    "df.describe()"
   ]
  },
  {
   "cell_type": "code",
   "execution_count": 4,
   "id": "c5488d16",
   "metadata": {},
   "outputs": [
    {
     "data": {
      "text/plain": [
       "1    4785\n",
       "2    1539\n",
       "Name: VARIANT_NAME, dtype: int64"
      ]
     },
     "execution_count": 4,
     "metadata": {},
     "output_type": "execute_result"
    }
   ],
   "source": [
    "# Check if some people are in BOTH control and variant groups\n",
    " \n",
    "df.groupby('USER_ID')['VARIANT_NAME'].nunique().value_counts()"
   ]
  },
  {
   "cell_type": "code",
   "execution_count": 5,
   "id": "768c632f",
   "metadata": {},
   "outputs": [],
   "source": [
    "# We have some people that in both groups\n",
    "# Select people that were only in one group\n",
    "\n",
    "count_group = (df.groupby('USER_ID', as_index = False)['VARIANT_NAME'].nunique())\n",
    "\n",
    "two_group_index = count_group[count_group.VARIANT_NAME == 1] "
   ]
  },
  {
   "cell_type": "code",
   "execution_count": 6,
   "id": "923da3cd",
   "metadata": {},
   "outputs": [
    {
     "data": {
      "text/plain": [
       "1    4785\n",
       "Name: VARIANT_NAME, dtype: int64"
      ]
     },
     "execution_count": 6,
     "metadata": {},
     "output_type": "execute_result"
    }
   ],
   "source": [
    "df = df[df['USER_ID'].isin(two_group_index['USER_ID'])]\n",
    "\n",
    "# Check if all correct\n",
    "df.groupby('USER_ID')['VARIANT_NAME'].nunique().value_counts()"
   ]
  },
  {
   "cell_type": "code",
   "execution_count": 7,
   "id": "7752ac42",
   "metadata": {},
   "outputs": [
    {
     "data": {
      "text/plain": [
       "<AxesSubplot: xlabel='VARIANT_NAME', ylabel='REVENUE'>"
      ]
     },
     "execution_count": 7,
     "metadata": {},
     "output_type": "execute_result"
    },
    {
     "data": {
      "image/png": "[encoded data removed]",
      "text/plain": [
       "<Figure size 1080x576 with 1 Axes>"
      ]
     },
     "metadata": {
      "needs_background": "light"
     },
     "output_type": "display_data"
    }
   ],
   "source": [
    "sns.boxplot(df, x = 'VARIANT_NAME', y = 'REVENUE')"
   ]
  },
  {
   "cell_type": "code",
   "execution_count": 8,
   "id": "9c0c26a4",
   "metadata": {},
   "outputs": [
    {
     "data": {
      "text/html": [
       "<div>\n",
       "<style scoped>\n",
       "    .dataframe tbody tr th:only-of-type {\n",
       "        vertical-align: middle;\n",
       "    }\n",
       "\n",
       "    .dataframe tbody tr th {\n",
       "        vertical-align: top;\n",
       "    }\n",
       "\n",
       "    .dataframe thead th {\n",
       "        text-align: right;\n",
       "    }\n",
       "</style>\n",
       "<table border=\"1\" class=\"dataframe\">\n",
       "  <thead>\n",
       "    <tr style=\"text-align: right;\">\n",
       "      <th></th>\n",
       "      <th>USER_ID</th>\n",
       "      <th>VARIANT_NAME</th>\n",
       "      <th>REVENUE</th>\n",
       "    </tr>\n",
       "  </thead>\n",
       "  <tbody>\n",
       "    <tr>\n",
       "      <th>1437</th>\n",
       "      <td>3342</td>\n",
       "      <td>control</td>\n",
       "      <td>196.01</td>\n",
       "    </tr>\n",
       "    <tr>\n",
       "      <th>8166</th>\n",
       "      <td>2166</td>\n",
       "      <td>control</td>\n",
       "      <td>29.32</td>\n",
       "    </tr>\n",
       "    <tr>\n",
       "      <th>2482</th>\n",
       "      <td>7356</td>\n",
       "      <td>variant</td>\n",
       "      <td>23.04</td>\n",
       "    </tr>\n",
       "    <tr>\n",
       "      <th>6412</th>\n",
       "      <td>1053</td>\n",
       "      <td>control</td>\n",
       "      <td>20.07</td>\n",
       "    </tr>\n",
       "    <tr>\n",
       "      <th>5217</th>\n",
       "      <td>3684</td>\n",
       "      <td>variant</td>\n",
       "      <td>19.47</td>\n",
       "    </tr>\n",
       "  </tbody>\n",
       "</table>\n",
       "</div>"
      ],
      "text/plain": [
       "      USER_ID VARIANT_NAME  REVENUE\n",
       "1437     3342      control   196.01\n",
       "8166     2166      control    29.32\n",
       "2482     7356      variant    23.04\n",
       "6412     1053      control    20.07\n",
       "5217     3684      variant    19.47"
      ]
     },
     "execution_count": 8,
     "metadata": {},
     "output_type": "execute_result"
    }
   ],
   "source": [
    "# Looking for outlier\n",
    "\n",
    "df.sort_values('REVENUE', ascending=False).head()"
   ]
  },
  {
   "cell_type": "code",
   "execution_count": 9,
   "id": "27ba075d",
   "metadata": {},
   "outputs": [
    {
     "data": {
      "text/html": [
       "<div>\n",
       "<style scoped>\n",
       "    .dataframe tbody tr th:only-of-type {\n",
       "        vertical-align: middle;\n",
       "    }\n",
       "\n",
       "    .dataframe tbody tr th {\n",
       "        vertical-align: top;\n",
       "    }\n",
       "\n",
       "    .dataframe thead th {\n",
       "        text-align: right;\n",
       "    }\n",
       "</style>\n",
       "<table border=\"1\" class=\"dataframe\">\n",
       "  <thead>\n",
       "    <tr style=\"text-align: right;\">\n",
       "      <th></th>\n",
       "      <th>USER_ID</th>\n",
       "      <th>VARIANT_NAME</th>\n",
       "      <th>REVENUE</th>\n",
       "    </tr>\n",
       "  </thead>\n",
       "  <tbody>\n",
       "    <tr>\n",
       "      <th>1437</th>\n",
       "      <td>3342</td>\n",
       "      <td>control</td>\n",
       "      <td>196.01</td>\n",
       "    </tr>\n",
       "  </tbody>\n",
       "</table>\n",
       "</div>"
      ],
      "text/plain": [
       "      USER_ID VARIANT_NAME  REVENUE\n",
       "1437     3342      control   196.01"
      ]
     },
     "execution_count": 9,
     "metadata": {},
     "output_type": "execute_result"
    }
   ],
   "source": [
    "df[df['USER_ID'] == 3342]"
   ]
  },
  {
   "cell_type": "code",
   "execution_count": 10,
   "id": "073dfc55",
   "metadata": {},
   "outputs": [],
   "source": [
    "# That user has only one event, so we delete outlier\n",
    "\n",
    "df = df[df.USER_ID != 3342]"
   ]
  },
  {
   "cell_type": "code",
   "execution_count": 11,
   "id": "a44c807d",
   "metadata": {},
   "outputs": [
    {
     "data": {
      "text/plain": [
       "<AxesSubplot: xlabel='VARIANT_NAME', ylabel='REVENUE'>"
      ]
     },
     "execution_count": 11,
     "metadata": {},
     "output_type": "execute_result"
    },
    {
     "data": {
      "image/png": "[encoded data removed]",
      "text/plain": [
       "<Figure size 1080x576 with 1 Axes>"
      ]
     },
     "metadata": {
      "needs_background": "light"
     },
     "output_type": "display_data"
    }
   ],
   "source": [
    "sns.boxplot(x = 'VARIANT_NAME', y = 'REVENUE', data = df)"
   ]
  },
  {
   "cell_type": "code",
   "execution_count": 12,
   "id": "cc3223f1",
   "metadata": {},
   "outputs": [
    {
     "data": {
      "text/plain": [
       "<AxesSubplot: xlabel='VARIANT_NAME', ylabel='REVENUE'>"
      ]
     },
     "execution_count": 12,
     "metadata": {},
     "output_type": "execute_result"
    },
    {
     "data": {
      "image/png": "[encoded data removed]",
      "text/plain": [
       "<Figure size 1080x576 with 1 Axes>"
      ]
     },
     "metadata": {
      "needs_background": "light"
     },
     "output_type": "display_data"
    }
   ],
   "source": [
    "sns.boxplot(x = 'VARIANT_NAME', y = 'REVENUE', data = df[df.REVENUE>0], order=['variant', 'control'])"
   ]
  },
  {
   "cell_type": "code",
   "execution_count": 13,
   "id": "37a70153",
   "metadata": {},
   "outputs": [
    {
     "data": {
      "text/html": [
       "<div>\n",
       "<style scoped>\n",
       "    .dataframe tbody tr th:only-of-type {\n",
       "        vertical-align: middle;\n",
       "    }\n",
       "\n",
       "    .dataframe tbody tr th {\n",
       "        vertical-align: top;\n",
       "    }\n",
       "\n",
       "    .dataframe thead th {\n",
       "        text-align: right;\n",
       "    }\n",
       "</style>\n",
       "<table border=\"1\" class=\"dataframe\">\n",
       "  <thead>\n",
       "    <tr style=\"text-align: right;\">\n",
       "      <th></th>\n",
       "      <th>USER_ID</th>\n",
       "      <th>REVENUE</th>\n",
       "    </tr>\n",
       "  </thead>\n",
       "  <tbody>\n",
       "    <tr>\n",
       "      <th>0</th>\n",
       "      <td>2</td>\n",
       "      <td>3</td>\n",
       "    </tr>\n",
       "    <tr>\n",
       "      <th>1</th>\n",
       "      <td>4</td>\n",
       "      <td>1</td>\n",
       "    </tr>\n",
       "    <tr>\n",
       "      <th>2</th>\n",
       "      <td>5</td>\n",
       "      <td>1</td>\n",
       "    </tr>\n",
       "    <tr>\n",
       "      <th>3</th>\n",
       "      <td>6</td>\n",
       "      <td>1</td>\n",
       "    </tr>\n",
       "    <tr>\n",
       "      <th>4</th>\n",
       "      <td>9</td>\n",
       "      <td>1</td>\n",
       "    </tr>\n",
       "  </tbody>\n",
       "</table>\n",
       "</div>"
      ],
      "text/plain": [
       "   USER_ID  REVENUE\n",
       "0        2        3\n",
       "1        4        1\n",
       "2        5        1\n",
       "3        6        1\n",
       "4        9        1"
      ]
     },
     "execution_count": 13,
     "metadata": {},
     "output_type": "execute_result"
    }
   ],
   "source": [
    "# See if any user has several REVENUE values\n",
    "\n",
    "df.groupby('USER_ID', as_index=False)['REVENUE'].count().head()"
   ]
  },
  {
   "cell_type": "code",
   "execution_count": 14,
   "id": "9be21b8b",
   "metadata": {},
   "outputs": [],
   "source": [
    "# lets sum values of every user\n",
    "\n",
    "df = df.groupby(['USER_ID', 'VARIANT_NAME'])['REVENUE'].sum().reset_index()"
   ]
  },
  {
   "cell_type": "code",
   "execution_count": 15,
   "id": "c78cba76",
   "metadata": {},
   "outputs": [
    {
     "data": {
      "text/plain": [
       "<AxesSubplot: xlabel='VARIANT_NAME', ylabel='REVENUE'>"
      ]
     },
     "execution_count": 15,
     "metadata": {},
     "output_type": "execute_result"
    },
    {
     "data": {
      "image/png": "[encoded data removed]",
      "text/plain": [
       "<Figure size 1080x576 with 1 Axes>"
      ]
     },
     "metadata": {
      "needs_background": "light"
     },
     "output_type": "display_data"
    }
   ],
   "source": [
    "sns.boxplot(x = 'VARIANT_NAME', y = 'REVENUE', data = df, order=['variant', 'control'])"
   ]
  },
  {
   "cell_type": "code",
   "execution_count": 16,
   "id": "3743396f",
   "metadata": {},
   "outputs": [
    {
     "data": {
      "text/plain": [
       "<AxesSubplot: xlabel='VARIANT_NAME', ylabel='REVENUE'>"
      ]
     },
     "execution_count": 16,
     "metadata": {},
     "output_type": "execute_result"
    },
    {
     "data": {
      "image/png": "[encoded data removed]",
      "text/plain": [
       "<Figure size 1080x576 with 1 Axes>"
      ]
     },
     "metadata": {
      "needs_background": "light"
     },
     "output_type": "display_data"
    }
   ],
   "source": [
    "sns.boxplot(x = 'VARIANT_NAME', y = 'REVENUE', data = df[df.REVENUE>0], order=['variant', 'control'])"
   ]
  },
  {
   "cell_type": "code",
   "execution_count": 17,
   "id": "047c790b",
   "metadata": {},
   "outputs": [
    {
     "data": {
      "text/plain": [
       "ShapiroResult(statistic=0.06143993139266968, pvalue=0.0)"
      ]
     },
     "execution_count": 17,
     "metadata": {},
     "output_type": "execute_result"
    }
   ],
   "source": [
    "# Check if the distribution is normal\n",
    "\n",
    "from scipy.stats import shapiro\n",
    "\n",
    "shapiro(df.loc[df.VARIANT_NAME == 'variant', 'REVENUE'])"
   ]
  },
  {
   "cell_type": "code",
   "execution_count": 18,
   "id": "05bf2345",
   "metadata": {},
   "outputs": [],
   "source": [
    "# So we see that distribution is not normal"
   ]
  },
  {
   "cell_type": "code",
   "execution_count": 19,
   "id": "c932dd57",
   "metadata": {},
   "outputs": [
    {
     "data": {
      "text/plain": [
       "MannwhitneyuResult(statistic=array([2830418., 2847495.]), pvalue=array([0.52432828, 0.24800016]))"
      ]
     },
     "execution_count": 19,
     "metadata": {},
     "output_type": "execute_result"
    }
   ],
   "source": [
    "# U-test\n",
    "\n",
    "from scipy.stats import mannwhitneyu \n",
    "\n",
    "test = df[df.VARIANT_NAME == 'variant']['REVENUE'].reset_index()\n",
    "ctrl = df[df.VARIANT_NAME == 'control']['REVENUE'].reset_index()\n",
    "\n",
    "mannwhitneyu(test, ctrl)"
   ]
  },
  {
   "cell_type": "code",
   "execution_count": 20,
   "id": "88ca92c4",
   "metadata": {},
   "outputs": [
    {
     "data": {
      "text/plain": [
       "MannwhitneyuResult(statistic=array([1307., 1029.]), pvalue=array([0.1470535 , 0.53141922]))"
      ]
     },
     "execution_count": 20,
     "metadata": {},
     "output_type": "execute_result"
    }
   ],
   "source": [
    "# only for those who has REVENUE > 0\n",
    "\n",
    "mannwhitneyu(test[test.REVENUE > 0], ctrl[ctrl.REVENUE > 0])"
   ]
  },
  {
   "cell_type": "code",
   "execution_count": 21,
   "id": "54e68b33",
   "metadata": {},
   "outputs": [],
   "source": [
    "# p-value = 0.24800016\n",
    "# p-value = 0.53141922 (only REVENUE>0)"
   ]
  },
  {
   "cell_type": "code",
   "execution_count": 22,
   "id": "73b8e954",
   "metadata": {},
   "outputs": [],
   "source": [
    "# Bootstrap test"
   ]
  },
  {
   "cell_type": "code",
   "execution_count": 23,
   "id": "3fa57efb",
   "metadata": {},
   "outputs": [],
   "source": [
    "boot_results = bs.bootstrap_ab(  test.REVENUE.values, ctrl.REVENUE.values\n",
    "                               , stat_func = bs_stats.mean\n",
    "                               , compare_func = bs_compare.difference\n",
    "                               , return_distribution = True)"
   ]
  },
  {
   "cell_type": "code",
   "execution_count": 24,
   "id": "56ed6de2",
   "metadata": {},
   "outputs": [
    {
     "data": {
      "text/plain": [
       "array([-0.02490876, -0.04660827, -0.05638307, ..., -0.05735992,\n",
       "       -0.02234562, -0.05696222])"
      ]
     },
     "execution_count": 24,
     "metadata": {},
     "output_type": "execute_result"
    }
   ],
   "source": [
    "boot_results"
   ]
  },
  {
   "cell_type": "code",
   "execution_count": 25,
   "id": "15d7346b",
   "metadata": {},
   "outputs": [
    {
     "data": {
      "text/plain": [
       "array([-0.09931209,  0.01649558])"
      ]
     },
     "execution_count": 25,
     "metadata": {},
     "output_type": "execute_result"
    }
   ],
   "source": [
    "borders = np.percentile(boot_results, [2.5, 97.5])\n",
    "\n",
    "borders"
   ]
  },
  {
   "cell_type": "code",
   "execution_count": 26,
   "id": "4ff6cb88",
   "metadata": {},
   "outputs": [
    {
     "name": "stderr",
     "output_type": "stream",
     "text": [
      "C:\\Users\\valie\\AppData\\Local\\Temp\\ipykernel_13188\\2560928721.py:1: UserWarning: \n",
      "\n",
      "`distplot` is a deprecated function and will be removed in seaborn v0.14.0.\n",
      "\n",
      "Please adapt your code to use either `displot` (a figure-level function with\n",
      "similar flexibility) or `histplot` (an axes-level function for histograms).\n",
      "\n",
      "For a guide to updating your code to use the new functions, please see\n",
      "https://gist.github.com/mwaskom/de44147ed2974457ad6372750bbe5751\n",
      "\n",
      "  sns.distplot(boot_results)\n"
     ]
    },
    {
     "data": {
      "image/png": "[encoded data removed]",
      "text/plain": [
       "<Figure size 1080x576 with 1 Axes>"
      ]
     },
     "metadata": {
      "needs_background": "light"
     },
     "output_type": "display_data"
    }
   ],
   "source": [
    "sns.distplot(boot_results)\n",
    "plt.title('Bootstrap - Распределение разниц среднего дохода')\n",
    "plt.vlines(0, ymin = 0, ymax = 14, colors = 'yellow', linestyles = '-')\n",
    "plt.vlines(borders, ymin = 0, ymax = 14, colors = 'grey', linestyles = '--', label = '95% доверительный интервал')\n",
    "plt.legend()\n",
    "plt.show()"
   ]
  },
  {
   "cell_type": "code",
   "execution_count": 27,
   "id": "ab75995e",
   "metadata": {},
   "outputs": [],
   "source": [
    "# Bootstrap only for REVENUE > 0"
   ]
  },
  {
   "cell_type": "code",
   "execution_count": 28,
   "id": "aaa8bac4",
   "metadata": {},
   "outputs": [],
   "source": [
    "boot_results = bs.bootstrap_ab(  test[test.REVENUE > 0].REVENUE.values, ctrl[ctrl.REVENUE > 0].REVENUE.values\n",
    "                               , stat_func = bs_stats.mean\n",
    "                               , compare_func = bs_compare.difference\n",
    "                               , return_distribution = True)"
   ]
  },
  {
   "cell_type": "code",
   "execution_count": 29,
   "id": "ff88767a",
   "metadata": {},
   "outputs": [
    {
     "data": {
      "text/plain": [
       "array([-0.24126235, -2.65933962, -1.15813567, ..., -1.46666217,\n",
       "       -1.23353998, -2.45543127])"
      ]
     },
     "execution_count": 29,
     "metadata": {},
     "output_type": "execute_result"
    }
   ],
   "source": [
    "boot_results"
   ]
  },
  {
   "cell_type": "code",
   "execution_count": 30,
   "id": "9fe645de",
   "metadata": {},
   "outputs": [
    {
     "data": {
      "text/plain": [
       "array([-3.10519059,  1.23491431])"
      ]
     },
     "execution_count": 30,
     "metadata": {},
     "output_type": "execute_result"
    }
   ],
   "source": [
    "borders = np.percentile(boot_results, [2.5, 97.5])\n",
    "\n",
    "borders"
   ]
  },
  {
   "cell_type": "code",
   "execution_count": 31,
   "id": "3088847d",
   "metadata": {},
   "outputs": [
    {
     "name": "stderr",
     "output_type": "stream",
     "text": [
      "C:\\Users\\valie\\AppData\\Local\\Temp\\ipykernel_13188\\487836473.py:1: UserWarning: \n",
      "\n",
      "`distplot` is a deprecated function and will be removed in seaborn v0.14.0.\n",
      "\n",
      "Please adapt your code to use either `displot` (a figure-level function with\n",
      "similar flexibility) or `histplot` (an axes-level function for histograms).\n",
      "\n",
      "For a guide to updating your code to use the new functions, please see\n",
      "https://gist.github.com/mwaskom/de44147ed2974457ad6372750bbe5751\n",
      "\n",
      "  sns.distplot(boot_results)\n"
     ]
    },
    {
     "data": {
      "image/png": "[encoded data removed]",
      "text/plain": [
       "<Figure size 1080x576 with 1 Axes>"
      ]
     },
     "metadata": {
      "needs_background": "light"
     },
     "output_type": "display_data"
    }
   ],
   "source": [
    "sns.distplot(boot_results)\n",
    "plt.title('Bootstrap - Распределение разниц среднего дохода для тех у кого REVENUE > 0')\n",
    "plt.vlines(0, ymin = 0, ymax = 0.4, colors = 'yellow', linestyles = '-')\n",
    "plt.vlines(borders, ymin = 0, ymax = 0.4, colors = 'grey', linestyles = '--', label = '95% доверительный интервал')\n",
    "plt.legend()\n",
    "plt.show()"
   ]
  },
  {
   "cell_type": "code",
   "execution_count": null,
   "id": "b122d54c",
   "metadata": {},
   "outputs": [],
   "source": [
    "# In both diagrams zero is within the confidence interval, so we CANNOT REJECT NULL HYPOTHESIS"
   ]
  },
  {
   "cell_type": "code",
   "execution_count": null,
   "id": "f68c21e2",
   "metadata": {},
   "outputs": [],
   "source": []
  },
  {
   "cell_type": "code",
   "execution_count": null,
   "id": "feb310f3",
   "metadata": {},
   "outputs": [],
   "source": []
  },
  {
   "cell_type": "code",
   "execution_count": 32,
   "id": "a89e55be",
   "metadata": {},
   "outputs": [
    {
     "data": {
      "text/html": [
       "<div>\n",
       "<style scoped>\n",
       "    .dataframe tbody tr th:only-of-type {\n",
       "        vertical-align: middle;\n",
       "    }\n",
       "\n",
       "    .dataframe tbody tr th {\n",
       "        vertical-align: top;\n",
       "    }\n",
       "\n",
       "    .dataframe thead th {\n",
       "        text-align: right;\n",
       "    }\n",
       "</style>\n",
       "<table border=\"1\" class=\"dataframe\">\n",
       "  <thead>\n",
       "    <tr style=\"text-align: right;\">\n",
       "      <th></th>\n",
       "      <th>USER_ID</th>\n",
       "      <th>VARIANT_NAME</th>\n",
       "      <th>REVENUE</th>\n",
       "    </tr>\n",
       "  </thead>\n",
       "  <tbody>\n",
       "    <tr>\n",
       "      <th>0</th>\n",
       "      <td>737</td>\n",
       "      <td>variant</td>\n",
       "      <td>0.0</td>\n",
       "    </tr>\n",
       "  </tbody>\n",
       "</table>\n",
       "</div>"
      ],
      "text/plain": [
       "   USER_ID VARIANT_NAME  REVENUE\n",
       "0      737      variant      0.0"
      ]
     },
     "execution_count": 32,
     "metadata": {},
     "output_type": "execute_result"
    }
   ],
   "source": [
    "# create convertion, chi-squared test, power analysis !!!!!!!!!!!!!!!!!!!!!!!!!!!!!!!!!!!!!!!!!!!!!!!!!!!!!!!!!!!!!!!!!1\n",
    "# we need to read data one more time to get all columns later, that will appear later\n",
    "df = pd.read_csv('AB_Test_Results2.csv', sep=',')\n",
    "\n",
    "df.head(1)"
   ]
  },
  {
   "cell_type": "code",
   "execution_count": 33,
   "id": "b783cc07",
   "metadata": {},
   "outputs": [],
   "source": [
    "# Clean data one more time from users that are both in the groups\n",
    "\n",
    "df = df[df['USER_ID'].isin(two_group_index['USER_ID'])]"
   ]
  },
  {
   "cell_type": "code",
   "execution_count": 34,
   "id": "67c407d5",
   "metadata": {},
   "outputs": [],
   "source": [
    "# Clean one outlier one more time\n",
    "\n",
    "df = df[df.USER_ID != 3342]"
   ]
  },
  {
   "cell_type": "code",
   "execution_count": 35,
   "id": "e440f78c",
   "metadata": {},
   "outputs": [
    {
     "data": {
      "text/html": [
       "<div>\n",
       "<style scoped>\n",
       "    .dataframe tbody tr th:only-of-type {\n",
       "        vertical-align: middle;\n",
       "    }\n",
       "\n",
       "    .dataframe tbody tr th {\n",
       "        vertical-align: top;\n",
       "    }\n",
       "\n",
       "    .dataframe thead th {\n",
       "        text-align: right;\n",
       "    }\n",
       "</style>\n",
       "<table border=\"1\" class=\"dataframe\">\n",
       "  <thead>\n",
       "    <tr style=\"text-align: right;\">\n",
       "      <th></th>\n",
       "      <th>USER_ID</th>\n",
       "      <th>VARIANT_NAME</th>\n",
       "      <th>REVENUE</th>\n",
       "      <th>created_order</th>\n",
       "    </tr>\n",
       "  </thead>\n",
       "  <tbody>\n",
       "    <tr>\n",
       "      <th>49</th>\n",
       "      <td>6429</td>\n",
       "      <td>control</td>\n",
       "      <td>3.25</td>\n",
       "      <td>1</td>\n",
       "    </tr>\n",
       "    <tr>\n",
       "      <th>52</th>\n",
       "      <td>7928</td>\n",
       "      <td>control</td>\n",
       "      <td>0.00</td>\n",
       "      <td>0</td>\n",
       "    </tr>\n",
       "    <tr>\n",
       "      <th>53</th>\n",
       "      <td>1544</td>\n",
       "      <td>variant</td>\n",
       "      <td>0.00</td>\n",
       "      <td>0</td>\n",
       "    </tr>\n",
       "    <tr>\n",
       "      <th>54</th>\n",
       "      <td>8467</td>\n",
       "      <td>variant</td>\n",
       "      <td>0.00</td>\n",
       "      <td>0</td>\n",
       "    </tr>\n",
       "    <tr>\n",
       "      <th>55</th>\n",
       "      <td>767</td>\n",
       "      <td>control</td>\n",
       "      <td>0.00</td>\n",
       "      <td>0</td>\n",
       "    </tr>\n",
       "  </tbody>\n",
       "</table>\n",
       "</div>"
      ],
      "text/plain": [
       "    USER_ID VARIANT_NAME  REVENUE  created_order\n",
       "49     6429      control     3.25              1\n",
       "52     7928      control     0.00              0\n",
       "53     1544      variant     0.00              0\n",
       "54     8467      variant     0.00              0\n",
       "55      767      control     0.00              0"
      ]
     },
     "execution_count": 35,
     "metadata": {},
     "output_type": "execute_result"
    }
   ],
   "source": [
    "# Create created_order column\n",
    "\n",
    "def fun(row):\n",
    "    if row['REVENUE'] > 0:\n",
    "        return 1\n",
    "    return 0\n",
    "\n",
    "df['created_order'] = df.apply(lambda row: fun(row), axis=1)\n",
    "\n",
    "df.head(30).tail()"
   ]
  },
  {
   "cell_type": "code",
   "execution_count": 36,
   "id": "fb0eafd2",
   "metadata": {},
   "outputs": [],
   "source": [
    "# Lets create convertion metric for each user (count appearences, sum revenue, number of created orders)\n",
    "                                                 \n",
    "df['count_user_id'] = df.groupby('USER_ID')['USER_ID'].transform('count')\n",
    "df['sum_revenue'] = df.groupby('USER_ID')['REVENUE'].transform('sum')\n",
    "df['num_created_orders'] = df.groupby('USER_ID')['created_order'].transform('sum')"
   ]
  },
  {
   "cell_type": "code",
   "execution_count": 37,
   "id": "a2905372",
   "metadata": {},
   "outputs": [
    {
     "data": {
      "text/html": [
       "<div>\n",
       "<style scoped>\n",
       "    .dataframe tbody tr th:only-of-type {\n",
       "        vertical-align: middle;\n",
       "    }\n",
       "\n",
       "    .dataframe tbody tr th {\n",
       "        vertical-align: top;\n",
       "    }\n",
       "\n",
       "    .dataframe thead th {\n",
       "        text-align: right;\n",
       "    }\n",
       "</style>\n",
       "<table border=\"1\" class=\"dataframe\">\n",
       "  <thead>\n",
       "    <tr style=\"text-align: right;\">\n",
       "      <th></th>\n",
       "      <th>USER_ID</th>\n",
       "      <th>VARIANT_NAME</th>\n",
       "      <th>REVENUE</th>\n",
       "      <th>created_order</th>\n",
       "      <th>count_user_id</th>\n",
       "      <th>sum_revenue</th>\n",
       "      <th>num_created_orders</th>\n",
       "    </tr>\n",
       "  </thead>\n",
       "  <tbody>\n",
       "    <tr>\n",
       "      <th>49</th>\n",
       "      <td>6429</td>\n",
       "      <td>control</td>\n",
       "      <td>3.25</td>\n",
       "      <td>1</td>\n",
       "      <td>2</td>\n",
       "      <td>3.25</td>\n",
       "      <td>1</td>\n",
       "    </tr>\n",
       "    <tr>\n",
       "      <th>52</th>\n",
       "      <td>7928</td>\n",
       "      <td>control</td>\n",
       "      <td>0.00</td>\n",
       "      <td>0</td>\n",
       "      <td>1</td>\n",
       "      <td>0.00</td>\n",
       "      <td>0</td>\n",
       "    </tr>\n",
       "    <tr>\n",
       "      <th>53</th>\n",
       "      <td>1544</td>\n",
       "      <td>variant</td>\n",
       "      <td>0.00</td>\n",
       "      <td>0</td>\n",
       "      <td>2</td>\n",
       "      <td>0.00</td>\n",
       "      <td>0</td>\n",
       "    </tr>\n",
       "    <tr>\n",
       "      <th>54</th>\n",
       "      <td>8467</td>\n",
       "      <td>variant</td>\n",
       "      <td>0.00</td>\n",
       "      <td>0</td>\n",
       "      <td>1</td>\n",
       "      <td>0.00</td>\n",
       "      <td>0</td>\n",
       "    </tr>\n",
       "    <tr>\n",
       "      <th>55</th>\n",
       "      <td>767</td>\n",
       "      <td>control</td>\n",
       "      <td>0.00</td>\n",
       "      <td>0</td>\n",
       "      <td>1</td>\n",
       "      <td>0.00</td>\n",
       "      <td>0</td>\n",
       "    </tr>\n",
       "  </tbody>\n",
       "</table>\n",
       "</div>"
      ],
      "text/plain": [
       "    USER_ID VARIANT_NAME  REVENUE  created_order  count_user_id  sum_revenue  \\\n",
       "49     6429      control     3.25              1              2         3.25   \n",
       "52     7928      control     0.00              0              1         0.00   \n",
       "53     1544      variant     0.00              0              2         0.00   \n",
       "54     8467      variant     0.00              0              1         0.00   \n",
       "55      767      control     0.00              0              1         0.00   \n",
       "\n",
       "    num_created_orders  \n",
       "49                   1  \n",
       "52                   0  \n",
       "53                   0  \n",
       "54                   0  \n",
       "55                   0  "
      ]
     },
     "execution_count": 37,
     "metadata": {},
     "output_type": "execute_result"
    }
   ],
   "source": [
    "# Lets check if everything is correct on some user\n",
    "\n",
    "df.head(30).tail()"
   ]
  },
  {
   "cell_type": "code",
   "execution_count": 38,
   "id": "1ef931de",
   "metadata": {},
   "outputs": [
    {
     "data": {
      "text/html": [
       "<div>\n",
       "<style scoped>\n",
       "    .dataframe tbody tr th:only-of-type {\n",
       "        vertical-align: middle;\n",
       "    }\n",
       "\n",
       "    .dataframe tbody tr th {\n",
       "        vertical-align: top;\n",
       "    }\n",
       "\n",
       "    .dataframe thead th {\n",
       "        text-align: right;\n",
       "    }\n",
       "</style>\n",
       "<table border=\"1\" class=\"dataframe\">\n",
       "  <thead>\n",
       "    <tr style=\"text-align: right;\">\n",
       "      <th></th>\n",
       "      <th>USER_ID</th>\n",
       "      <th>VARIANT_NAME</th>\n",
       "      <th>REVENUE</th>\n",
       "      <th>created_order</th>\n",
       "      <th>count_user_id</th>\n",
       "      <th>sum_revenue</th>\n",
       "      <th>num_created_orders</th>\n",
       "      <th>convertion_rate</th>\n",
       "    </tr>\n",
       "  </thead>\n",
       "  <tbody>\n",
       "    <tr>\n",
       "      <th>49</th>\n",
       "      <td>6429</td>\n",
       "      <td>control</td>\n",
       "      <td>3.25</td>\n",
       "      <td>1</td>\n",
       "      <td>2</td>\n",
       "      <td>3.25</td>\n",
       "      <td>1</td>\n",
       "      <td>50.0</td>\n",
       "    </tr>\n",
       "    <tr>\n",
       "      <th>52</th>\n",
       "      <td>7928</td>\n",
       "      <td>control</td>\n",
       "      <td>0.00</td>\n",
       "      <td>0</td>\n",
       "      <td>1</td>\n",
       "      <td>0.00</td>\n",
       "      <td>0</td>\n",
       "      <td>0.0</td>\n",
       "    </tr>\n",
       "    <tr>\n",
       "      <th>53</th>\n",
       "      <td>1544</td>\n",
       "      <td>variant</td>\n",
       "      <td>0.00</td>\n",
       "      <td>0</td>\n",
       "      <td>2</td>\n",
       "      <td>0.00</td>\n",
       "      <td>0</td>\n",
       "      <td>0.0</td>\n",
       "    </tr>\n",
       "    <tr>\n",
       "      <th>54</th>\n",
       "      <td>8467</td>\n",
       "      <td>variant</td>\n",
       "      <td>0.00</td>\n",
       "      <td>0</td>\n",
       "      <td>1</td>\n",
       "      <td>0.00</td>\n",
       "      <td>0</td>\n",
       "      <td>0.0</td>\n",
       "    </tr>\n",
       "    <tr>\n",
       "      <th>55</th>\n",
       "      <td>767</td>\n",
       "      <td>control</td>\n",
       "      <td>0.00</td>\n",
       "      <td>0</td>\n",
       "      <td>1</td>\n",
       "      <td>0.00</td>\n",
       "      <td>0</td>\n",
       "      <td>0.0</td>\n",
       "    </tr>\n",
       "  </tbody>\n",
       "</table>\n",
       "</div>"
      ],
      "text/plain": [
       "    USER_ID VARIANT_NAME  REVENUE  created_order  count_user_id  sum_revenue  \\\n",
       "49     6429      control     3.25              1              2         3.25   \n",
       "52     7928      control     0.00              0              1         0.00   \n",
       "53     1544      variant     0.00              0              2         0.00   \n",
       "54     8467      variant     0.00              0              1         0.00   \n",
       "55      767      control     0.00              0              1         0.00   \n",
       "\n",
       "    num_created_orders  convertion_rate  \n",
       "49                   1             50.0  \n",
       "52                   0              0.0  \n",
       "53                   0              0.0  \n",
       "54                   0              0.0  \n",
       "55                   0              0.0  "
      ]
     },
     "execution_count": 38,
     "metadata": {},
     "output_type": "execute_result"
    }
   ],
   "source": [
    "# Create convertion_rate column\n",
    "\n",
    "df['convertion_rate'] = df['num_created_orders']/df['count_user_id']*100\n",
    "\n",
    "df.head(30).tail()"
   ]
  },
  {
   "cell_type": "code",
   "execution_count": 39,
   "id": "242b1e75",
   "metadata": {},
   "outputs": [
    {
     "data": {
      "text/plain": [
       "(6072, 8)"
      ]
     },
     "execution_count": 39,
     "metadata": {},
     "output_type": "execute_result"
    }
   ],
   "source": [
    "# Drop duplicate USER_ID (to prepare for chisquare test, we dont care about REVENUE and created_column columns)\n",
    "\n",
    "df.shape"
   ]
  },
  {
   "cell_type": "code",
   "execution_count": 40,
   "id": "f0a9afcf",
   "metadata": {},
   "outputs": [
    {
     "data": {
      "text/plain": [
       "(4784, 8)"
      ]
     },
     "execution_count": 40,
     "metadata": {},
     "output_type": "execute_result"
    }
   ],
   "source": [
    "cleaned_df = df.drop_duplicates('USER_ID')\n",
    "\n",
    "cleaned_df.shape"
   ]
  },
  {
   "cell_type": "code",
   "execution_count": 41,
   "id": "352537ae",
   "metadata": {},
   "outputs": [
    {
     "data": {
      "text/html": [
       "<div>\n",
       "<style scoped>\n",
       "    .dataframe tbody tr th:only-of-type {\n",
       "        vertical-align: middle;\n",
       "    }\n",
       "\n",
       "    .dataframe tbody tr th {\n",
       "        vertical-align: top;\n",
       "    }\n",
       "\n",
       "    .dataframe thead th {\n",
       "        text-align: right;\n",
       "    }\n",
       "</style>\n",
       "<table border=\"1\" class=\"dataframe\">\n",
       "  <thead>\n",
       "    <tr style=\"text-align: right;\">\n",
       "      <th></th>\n",
       "      <th>VARIANT_NAME</th>\n",
       "      <th>convertion_rate</th>\n",
       "    </tr>\n",
       "    <tr>\n",
       "      <th>VARIANT_NAME</th>\n",
       "      <th></th>\n",
       "      <th></th>\n",
       "    </tr>\n",
       "  </thead>\n",
       "  <tbody>\n",
       "    <tr>\n",
       "      <th>control</th>\n",
       "      <td>2390</td>\n",
       "      <td>1.691074</td>\n",
       "    </tr>\n",
       "    <tr>\n",
       "      <th>variant</th>\n",
       "      <td>2394</td>\n",
       "      <td>1.421610</td>\n",
       "    </tr>\n",
       "  </tbody>\n",
       "</table>\n",
       "</div>"
      ],
      "text/plain": [
       "              VARIANT_NAME  convertion_rate\n",
       "VARIANT_NAME                               \n",
       "control               2390         1.691074\n",
       "variant               2394         1.421610"
      ]
     },
     "execution_count": 41,
     "metadata": {},
     "output_type": "execute_result"
    }
   ],
   "source": [
    "# Difference in convertion for control and variant groups\n",
    "\n",
    "grouped_cleaned_df = cleaned_df.groupby('VARIANT_NAME').agg({'VARIANT_NAME':'count', \n",
    "                                        'convertion_rate':'mean'})\n",
    "grouped_cleaned_df"
   ]
  },
  {
   "cell_type": "code",
   "execution_count": 42,
   "id": "0be3a71c",
   "metadata": {},
   "outputs": [
    {
     "data": {
      "text/plain": [
       "0.6246351918990558"
      ]
     },
     "execution_count": 42,
     "metadata": {},
     "output_type": "execute_result"
    }
   ],
   "source": [
    "import statsmodels.stats.proportion as proportion\n",
    "\n",
    "chi2stat, p_value, table = proportion.proportions_chisquare(cleaned_df['num_created_orders'], cleaned_df['count_user_id'])\n",
    "\n",
    "p_value"
   ]
  },
  {
   "cell_type": "code",
   "execution_count": null,
   "id": "57fa7bd9",
   "metadata": {},
   "outputs": [],
   "source": [
    "# p-value more than 0.05 so we cannot reject NULL HYPOTHESIS "
   ]
  },
  {
   "cell_type": "code",
   "execution_count": 43,
   "id": "62f9f3ba",
   "metadata": {},
   "outputs": [],
   "source": [
    "# Power analysis\n",
    "\n",
    "import statsmodels.stats.power as pwr\n",
    "\n",
    "chipower = pwr.GofChisquarePower()"
   ]
  },
  {
   "cell_type": "code",
   "execution_count": 44,
   "id": "ba19f849",
   "metadata": {},
   "outputs": [],
   "source": [
    "# Prepare variables for chi2\n",
    "ctrl_conv_rate = grouped_cleaned_df['convertion_rate'].values[0]/100\n",
    "test_conv_rate = grouped_cleaned_df['convertion_rate'].values[1]/100\n",
    "nobs = min(grouped_cleaned_df['VARIANT_NAME'])"
   ]
  },
  {
   "cell_type": "code",
   "execution_count": 45,
   "id": "f22ec548",
   "metadata": {},
   "outputs": [],
   "source": [
    "# Create function to find effect size\n",
    "\n",
    "def chi2_solve_effect_size(a,b):\n",
    "    return np.sqrt(((a-b)**2) / a)"
   ]
  },
  {
   "cell_type": "code",
   "execution_count": 46,
   "id": "c33db5fe",
   "metadata": {},
   "outputs": [
    {
     "data": {
      "text/plain": [
       "0.17330880581549457"
      ]
     },
     "execution_count": 46,
     "metadata": {},
     "output_type": "execute_result"
    }
   ],
   "source": [
    "chipower.solve_power(effect_size = chi2_solve_effect_size(ctrl_conv_rate, test_conv_rate),\n",
    "                     nobs = nobs,\n",
    "                     alpha = 0.05,\n",
    "                     power = None)"
   ]
  },
  {
   "cell_type": "code",
   "execution_count": 47,
   "id": "43a7d076",
   "metadata": {},
   "outputs": [
    {
     "data": {
      "text/plain": [
       "18280"
      ]
     },
     "execution_count": 47,
     "metadata": {},
     "output_type": "execute_result"
    }
   ],
   "source": [
    "# Lets see how many nobs we need to get power = 0.8\n",
    "\n",
    "round(chipower.solve_power(effect_size = chi2_solve_effect_size(ctrl_conv_rate, test_conv_rate),\n",
    "                     nobs = None,\n",
    "                     alpha = 0.05,\n",
    "                     power = 0.8))"
   ]
  },
  {
   "cell_type": "code",
   "execution_count": 48,
   "id": "830c5c95",
   "metadata": {},
   "outputs": [
    {
     "data": {
      "text/plain": [
       "4784"
      ]
     },
     "execution_count": 48,
     "metadata": {},
     "output_type": "execute_result"
    }
   ],
   "source": [
    "# We need 18280 numbers of observations(for power=0.8), but we have only 4784\n",
    "grouped_cleaned_df['VARIANT_NAME'].sum()"
   ]
  }
 ],
 "metadata": {
  "kernelspec": {
   "display_name": "Python 3 (ipykernel)",
   "language": "python",
   "name": "python3"
  },
  "language_info": {
   "codemirror_mode": {
    "name": "ipython",
    "version": 3
   },
   "file_extension": ".py",
   "mimetype": "text/x-python",
   "name": "python",
   "nbconvert_exporter": "python",
   "pygments_lexer": "ipython3",
   "version": "3.10.2"
  }
 },
 "nbformat": 4,
 "nbformat_minor": 5
}
